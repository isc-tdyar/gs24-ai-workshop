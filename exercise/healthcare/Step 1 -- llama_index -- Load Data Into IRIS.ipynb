{
 "cells": [
  {
   "cell_type": "code",
   "execution_count": 1,
   "metadata": {},
   "outputs": [
    {
     "ename": "ModuleNotFoundError",
     "evalue": "No module named 'dotenv'",
     "output_type": "error",
     "traceback": [
      "\u001b[1;31m---------------------------------------------------------------------------\u001b[0m",
      "\u001b[1;31mModuleNotFoundError\u001b[0m                       Traceback (most recent call last)",
      "Cell \u001b[1;32mIn[1], line 15\u001b[0m\n\u001b[0;32m     12\u001b[0m \u001b[38;5;28;01mfrom\u001b[39;00m \u001b[38;5;21;01mllama_index\u001b[39;00m\u001b[38;5;21;01m.\u001b[39;00m\u001b[38;5;21;01mindices\u001b[39;00m\u001b[38;5;21;01m.\u001b[39;00m\u001b[38;5;21;01mvector_store\u001b[39;00m \u001b[38;5;28;01mimport\u001b[39;00m VectorStoreIndex\n\u001b[0;32m     13\u001b[0m \u001b[38;5;28;01mfrom\u001b[39;00m \u001b[38;5;21;01mllama_iris\u001b[39;00m \u001b[38;5;28;01mimport\u001b[39;00m IRISVectorStore\n\u001b[1;32m---> 15\u001b[0m \u001b[38;5;28;01mfrom\u001b[39;00m \u001b[38;5;21;01mdotenv\u001b[39;00m \u001b[38;5;28;01mimport\u001b[39;00m load_dotenv\n\u001b[0;32m     16\u001b[0m load_dotenv(override\u001b[38;5;241m=\u001b[39m\u001b[38;5;28;01mTrue\u001b[39;00m)\n\u001b[0;32m     18\u001b[0m \u001b[38;5;28;01mimport\u001b[39;00m \u001b[38;5;21;01mos\u001b[39;00m\n",
      "\u001b[1;31mModuleNotFoundError\u001b[0m: No module named 'dotenv'"
     ]
    }
   ],
   "source": [
    "##############################################################\n",
    "## This code is for academic and educational purposes only. ##\n",
    "## Event: Global Summit 2024 Maryland USA                   ##\n",
    "## InterSystems Corporation 2024 (C)                        ##\n",
    "## Date: June 9th 2024                                      ##\n",
    "##############################################################\n",
    "\n",
    "##### We are going to use llama index that allows us to load and store data from file and put it into iris\n",
    "from llama_index import download_loader\n",
    "from llama_index import SimpleDirectoryReader, StorageContext, ServiceContext\n",
    "from llama_index.readers.json import JSONReader\n",
    "from llama_index.indices.vector_store import VectorStoreIndex\n",
    "from llama_iris import IRISVectorStore\n",
    "\n",
    "from dotenv import load_dotenv\n",
    "load_dotenv(override=True)\n",
    "\n",
    "import os\n",
    "\n",
    "##### Let's load our dataset\n",
    "reader = JSONReader(is_jsonl=True)\n",
    "documents = reader.load_data('./data/healthcare/augmented_notes_100.jsonl')\n"
   ]
  },
  {
   "cell_type": "code",
   "execution_count": 16,
   "metadata": {},
   "outputs": [
    {
     "data": {
      "text/plain": [
       "[Document(id_='7253f537-bf60-46a4-be60-bd96c7844088', embedding=None, metadata={}, excluded_embed_metadata_keys=[], excluded_llm_metadata_keys=[], relationships={}, text='\"note\": \"A a sixteen year-old girl, presented to our Outpatient department with the complaints of discomfort in the neck and lower back as well as restriction of body movements. She was not able to maintain an erect posture and would tend to fall on either side while standing up from a sitting position. She would keep her head turned to the right and upwards due to the sustained contraction of the neck muscles. There was a sideways bending of the back in the lumbar region. To counter the abnormal positioning of the back and neck, she would keep her limbs in a specific position to allow her body weight to be supported. Due to the restrictions with the body movements at the neck and in the lumbar region, she would require assistance in standing and walking. She would require her parents to help her with daily chores, including all activities of self-care.\\\\nShe had been experiencing these difficulties for the past four months since when she was introduced to olanzapine tablets for the control of her exacerbated mental illness. This was not her first experience with this drug over the past seven years since she had been diagnosed with bipolar affective disorder. Her first episode of the affective disorder was that of mania at the age of eleven which was managed with the use of olanzapine tablets in 2.5–10 mg doses per day at different times. The patient developed pain and discomfort in her neck within the second week of being put on tablet olanzapine at a dose of 5 mg per day. This was associated with a sustained and abnormal contraction of the neck muscles that would pull her head to the right in an upward direction. These features had persisted for the first three years of her illness with a varying intensity, distress, and dysfunction which would tend to correlate with the dose of olanzapine. Apart from a brief period of around three weeks when she was given tablet trihexyphenidyl 4 mg per day for rigidity in her upper limbs, she was not prescribed any other psychotropic medication. The rigidity showed good response to this medication which was subsequently\"', start_char_idx=None, end_char_idx=None, text_template='{metadata_str}\\n\\n{content}', metadata_template='{key}: {value}', metadata_seperator='\\n'),\n",
       " Document(id_='44535c73-1637-4d56-9dfb-1abe2e07c0b7', embedding=None, metadata={}, excluded_embed_metadata_keys=[], excluded_llm_metadata_keys=[], relationships={}, text='\"note\": \"This is the case of a 56-year-old man that was complaining of a dump pain on the right back and a swelling right in this place for several weeks. The patient was in good state and very active. There was not any health problem in the past except a thoracic trauma at work one year ago. In that time the patient was diagnosed with a simple fracture of the 9th right rib without any other consequences.\\\\nOn the X-ray was seen a shadow in the lower part of the right hemithorax. After that, it was decided to perform a CT-scan of the thorax that revealed a tumor of the thoracic wall in the right hemithorax that measured 8 × 4 cm and had a heterogeneous density inside of it. The tumor had involved and destructed the 9th rib and was lying even in two adjacent intercostal spaces, but without involving the lung and muscular layers. On lung window of the CT-scan were seen micronodular infiltrations of both lungs with diameters up to 5 mm and only one nodule in lower lobe of the right lung with diameter almost 1 cm (). The mediastinum was without enlarged lymph nodes and no other lesion was seen in adjacent organs. The conclusion of the radiologist was that probably this was the case of a malignant tumor of the thoracic wall with secondary lesions in both lungs and a biopsy of the tumor was recommended.\\\\nBecause there was not a correlation between the clinical picture of the patient and the conclusion of the radiology it was decided to perform frozen biopsy of the lesions of the right lung and an excision biopsy of the tumor of the thoracic wall. So, through a small posterior thoracotomy at 7th intercostal space were sampled five nodular lesions from the right lung and a sample from the tumor. None of these samples resulted positive (no malignant cells found) after frozen biopsy. In such conditions was considered as more realistic the option of performing an oncologic resection of the tumor of the thoracic wall. (We resected three ribs where the 8th and\"', start_char_idx=None, end_char_idx=None, text_template='{metadata_str}\\n\\n{content}', metadata_template='{key}: {value}', metadata_seperator='\\n'),\n",
       " Document(id_='e5ab163b-15f5-4f97-86f1-14527a2b1ca4', embedding=None, metadata={}, excluded_embed_metadata_keys=[], excluded_llm_metadata_keys=[], relationships={}, text='\"note\": \"A 36-year old female patient visited our hospital with a chief complaint of pain and restricted range of motion (ROM) in the left hip joint persisting for two months. Physical examination of the patient revealed severe gait disturbance secondary to hip pain aggravated by hip joint flexion or rotation. The patient had no lifestyle habits or specific comorbidities thought to cause femoral head AVN. An anteroposterior view of the left hip revealed sclerosis and collapse of the femoral head and dysplasia of the hip (). The magnetic resonance imaging (MRI) scan revealed an increased amount of joint fluid and bone marrow edema in the left hip, and femoral head necrosis was detected on the contralateral side; however, the patient did not complain of any pain (). The patient underwent THA after being diagnosed with idiopathic osteonecrosis of the femoral head, was discharged in good condition three weeks after the surgery without specific complications, and followed up via regular outpatient visits. The patient complained of pain and limited ROM in the contralateral hip joint and gait disturbance one year after the initial surgery. Her symptoms continued for two months and increased over the following three weeks. Repeat MRI revealed similar findings to those noted previously in the left hip (). A second THA was performed (one year after the first THA of the left hip); the patient was discharged in good condition after the surgery without specific complications and followed up via regular outpatient visits (). At the time of the second surgery, the patient was 7 kg heavier than she was at the time of the first procedure and developed a moderate moon face, signs that were initially overlooked as weight gain. Subsequently, the patient complained of intensifying feelings of helplessness and central obesity and muscle mass reduction in both the upper and lower limbs aggravated over a three-month period of outpatient follow-up after the second surgery. However, these signs were not significant enough to warrant further investigation. One year after the second surgery, the patient was referred to the Department of Cardiology in our hospital due to a progressive worsening of central\"', start_char_idx=None, end_char_idx=None, text_template='{metadata_str}\\n\\n{content}', metadata_template='{key}: {value}', metadata_seperator='\\n'),\n",
       " Document(id_='3557b186-79e1-48a9-823e-c13a0f5e5d51', embedding=None, metadata={}, excluded_embed_metadata_keys=[], excluded_llm_metadata_keys=[], relationships={}, text='\"note\": \"A 49-year-old male presented with a complaint of pain in the left proximal forearm after a fall. The patient had a history of left elbow arthrodesis performed for posttraumatic arthritis at the age of 18. On physical examination he was tender at the proximal ulna. He had no active flexion or extension at his elbow, which was fused at 90 degrees but achieved 40 degrees of pronation and 60 degrees of supination. His motor and sensory exam was normal at the hand. Radiographs of the forearm and the elbow revealed an elbow arthrodesis at 90 degrees with retained hardware and a minimally displaced proximal ulnar shaft fracture (). A decision was made to treat his ulnar shaft fracture closed in a cast, and he subsequently developed a hypertrophic nonunion. At his clinic visit three months after the fall, surgical options for the ulna nonunion were discussed with the patient. We proceeded with conservative treatment for an additional three months, with worsening motion through the nonunion site. He revealed that he was unhappy with the functional limitations of his elbow arthrodesis and inquired about the possibility of converting it to an arthroplasty. The risks of elbow arthroplasty were discussed with the patient at length. Increasing the functional capacity of his arm was his ultimate goal, and understanding that he faced a likely operation for the ulna nonunion, the patient wished to proceed. Due to the patient\\'s prior surgery and history of trauma, as well as risk of infection, we chose to avoid multiple surgeries and combine the repair of nonunion and the conversion of elbow arthrodesis to arthroplasty into one procedure. The stem of the ulnar component would thus act as an intramedullary device.\\\\nIn the operating room the patient was placed in a supine position and a posterior incision centered over the elbow was performed. A prior muscle flap that was used for soft tissue coverage at his index procedure had to be elevated. The ulnar nerve was encased in scar tissue and required a meticulous neuroplasty. A triceps splitting approach to the elbow joint was then performed and multiple buried pins\"', start_char_idx=None, end_char_idx=None, text_template='{metadata_str}\\n\\n{content}', metadata_template='{key}: {value}', metadata_seperator='\\n'),\n",
       " Document(id_='2a79dd1d-b880-446a-944f-eac2ca1b7325', embedding=None, metadata={}, excluded_embed_metadata_keys=[], excluded_llm_metadata_keys=[], relationships={}, text='\"note\": \"A 47-year-old male patient was referred to the rheumatology clinic because of recurrent attacks of pain in both knees over 1 year.\\\\nIn September 2016, the patient presented with severe pain over the medial aspect of the left knee for a two-week duration which prevented him from ambulation. The pain increased with weight-bearing physical activity. The patient reported no history of trauma before the onset of the knee pain. Examination showed severe tenderness over the medial side of the knee with mild effusion and moderate limitation of range of motion. There was no erythema or increased warmth of the knee. MRI of the left knee showed a moderate-sized focal area of marrow edema/contusion involving the medial femoral condyle in mid and anterior parts predominantly along the articular surface. The patient was prescribed diclofenac sodium 50 mg twice daily and was advised to avoid prolonged weight-bearing activities. Over the next few weeks, the pain subsided and resolved. Three months later, the patient developed spontaneous new onset of pain involving the lateral aspect of the same knee. MRI showed bone marrow edema involving the lateral femoral condyle with complete resolution of the bone marrow edema of the medial femoral condyle. He was treated conservatively with NSAIDs and physiotherapy and advised to use cane to minimize weight bearing on the diseased knee. demonstrates MRI of the left knee in September 2016 and three months later.\\\\nIn April 2017, the patient developed gradual pain over the medial side of the right knee with no obvious swelling. MRI of the right knee showed a moderate-sized focal area of marrow edema involving the medial tibial plateau medially and anteriorly. The patient was treated conservatively in a similar fashion to the previous episode. Four months later, the pain got more severe for which he underwent another MRI of the right knee which showed extensive marrow edema involving the medial femoral condyle with complete recovery of the medial tibial plateau bone marrow edema noted in the previous MRI (). The patient also recalled a similar pain happened in 2011 to the left knee but did not do MRI at\"', start_char_idx=None, end_char_idx=None, text_template='{metadata_str}\\n\\n{content}', metadata_template='{key}: {value}', metadata_seperator='\\n')]"
      ]
     },
     "execution_count": 16,
     "metadata": {},
     "output_type": "execute_result"
    }
   ],
   "source": [
    "##### Let's see the first 5 documents\n",
    "documents[:5]\n",
    "\n",
    "##### We have already reduced these documents (in Step 0) to just the text and first 100 documents"
   ]
  },
  {
   "cell_type": "code",
   "execution_count": 19,
   "metadata": {},
   "outputs": [],
   "source": [
    "##### Configuring IRIS\n",
    "# Setup our demo connectivity\n",
    "username = 'demo'\n",
    "password = 'demo' \n",
    "hostname = os.getenv('IRIS_HOSTNAME', 'localhost')\n",
    "port = '65066' \n",
    "namespace = 'USER'\n",
    "CONNECTION_STRING = f\"iris://{username}:{password}@{hostname}:{port}/{namespace}\"\n",
    "#####"
   ]
  },
  {
   "cell_type": "code",
   "execution_count": null,
   "metadata": {},
   "outputs": [],
   "source": [
    "##### Here, we connect the dataset into the IRISVectorStore helper\n",
    "vector_store = IRISVectorStore.from_params(\n",
    "    connection_string=CONNECTION_STRING,\n",
    "    table_name=\"augmented_notes\",\n",
    "    embed_dim=1536,  # openai embedding dimension\n",
    ")\n",
    "storage_context = StorageContext.from_defaults(vector_store=vector_store)"
   ]
  },
  {
   "cell_type": "code",
   "execution_count": null,
   "metadata": {},
   "outputs": [],
   "source": [
    "##### Finally, We can connect into the iris instance and save our data in a vectorized format\n",
    "## TODO: explain how embeddings work and why we're using them\n",
    "##### Below, we setup how we are going to index the vectorized data (using an embeddings model)\n",
    "index = VectorStoreIndex.from_documents(\n",
    "    documents,                              ##### These are our clinical notes we loaded up\n",
    "    storage_context=storage_context,        ##### This is our connection to the vector store\n",
    "    show_progress=True,                     ##### Let's see the progress as it happens\n",
    ")\n",
    "\n",
    "##### To interact with our embeddings, we take the query engine from our documents\n",
    "query_engine = index.as_query_engine()      ##### The \"as_query_engine\" is a llama_index directive which lets \n",
    "                                            ##### us search and retrieve based on vector similarity"
   ]
  },
  {
   "cell_type": "code",
   "execution_count": 20,
   "metadata": {},
   "outputs": [
    {
     "ename": "NameError",
     "evalue": "name 'query_engine' is not defined",
     "output_type": "error",
     "traceback": [
      "\u001b[1;31m---------------------------------------------------------------------------\u001b[0m",
      "\u001b[1;31mNameError\u001b[0m                                 Traceback (most recent call last)",
      "Cell \u001b[1;32mIn[20], line 3\u001b[0m\n\u001b[0;32m      1\u001b[0m \u001b[38;5;66;03m##### Now, let's use this against our vector store!\u001b[39;00m\n\u001b[1;32m----> 3\u001b[0m response \u001b[38;5;241m=\u001b[39m \u001b[43mquery_engine\u001b[49m\u001b[38;5;241m.\u001b[39mquery(\u001b[38;5;124m\"\u001b[39m\u001b[38;5;124m36 year old patient with a history of pain\u001b[39m\u001b[38;5;124m\"\u001b[39m)\n\u001b[0;32m      4\u001b[0m \u001b[38;5;28;01mimport\u001b[39;00m \u001b[38;5;21;01mtextwrap\u001b[39;00m\n\u001b[0;32m      5\u001b[0m \u001b[38;5;28mprint\u001b[39m(textwrap\u001b[38;5;241m.\u001b[39mfill(\u001b[38;5;28mstr\u001b[39m(response), \u001b[38;5;241m100\u001b[39m))\n",
      "\u001b[1;31mNameError\u001b[0m: name 'query_engine' is not defined"
     ]
    }
   ],
   "source": [
    "##### Now, let's use this against our vector store!\n",
    "\n",
    "response = query_engine.query(\"36 year old patient with a history of pain\")\n",
    "import textwrap\n",
    "print(textwrap.fill(str(response), 100))"
   ]
  }
 ],
 "metadata": {
  "kernelspec": {
   "display_name": "Python 3",
   "language": "python",
   "name": "python3"
  },
  "language_info": {
   "codemirror_mode": {
    "name": "ipython",
    "version": 3
   },
   "file_extension": ".py",
   "mimetype": "text/x-python",
   "name": "python",
   "nbconvert_exporter": "python",
   "pygments_lexer": "ipython3",
   "version": "3.11.0"
  }
 },
 "nbformat": 4,
 "nbformat_minor": 2
}
