{
 "cells": [
  {
   "cell_type": "markdown",
   "metadata": {},
   "source": [
    "### Step 0 (Not required for Global Summit Exercise)\n",
    "\n",
    "* Step 0 reviews how to get the data into a local environment. \n",
    "* Here we'll download a public data set for usage\n",
    "\n",
    "### Overview"
   ]
  },
  {
   "cell_type": "markdown",
   "metadata": {},
   "source": [
    "* The next block is utilizing the Hugging Face dataset library to download an open-source clinical note dataset, which will be used for for vectorizing. \n",
    "* This dataset, contains a large collection of annotated clinical notes that will help our model learn to extract relevant information. \n",
    "* Hugging Face is a popular open-source AI company that provides a wide range of NLP tools and datasets, enabling developers to easily access and integrate high-quality language models and datasets into their projects.\n"
   ]
  },
  {
   "cell_type": "code",
   "execution_count": 6,
   "metadata": {},
   "outputs": [
    {
     "name": "stderr",
     "output_type": "stream",
     "text": [
      "Fetching 7 files: 100%|██████████| 7/7 [00:00<00:00, 23.43it/s]\n"
     ]
    }
   ],
   "source": [
    "##############################################################\n",
    "## This code is for academic and educational purposes only. ##\n",
    "## Event: Global Summit 2024 Maryland USA                   ##\n",
    "## InterSystems Corporation 2024 (C)                        ##\n",
    "## Date: June 9th 2024                                      ##\n",
    "##############################################################\n",
    "\n",
    "\n",
    "## Use the Huggingface hub library to download data effectively\n",
    "from huggingface_hub import snapshot_download, hf_hub_download\n",
    "\n",
    "#####\n",
    "## Here is our dastaset \"tag\", these are formatted in the <account>/<data-set-name> format\n",
    "## Here is the direct link this points to\n",
    "# https://huggingface.co/datasets/AGBonnet/augmented-clinical-notes\n",
    "healthcare_dataset = 'AGBonnet/augmented-clinical-notes'\n",
    "#####\n",
    "\n",
    "#####\n",
    "# Here the snapshot download function downloads a copy of the data to a local directory\n",
    "directory = snapshot_download(repo_id=healthcare_dataset, local_dir='./data/healthcare', repo_type=\"dataset\")\n",
    "#####\n"
   ]
  },
  {
   "cell_type": "code",
   "execution_count": 5,
   "metadata": {},
   "outputs": [],
   "source": [
    "##############################################################\n",
    "## This code is for academic and educational purposes only. ##\n",
    "## Event: Global Summit 2024 Maryland USA                   ##\n",
    "## InterSystems Corporation 2024 (C)                        ##\n",
    "## Date: June 9th 2024                                      ##\n",
    "##############################################################\n",
    "\n",
    "#####\n",
    "## Huggingface provides a \"datasets\" library that lets you load datasets quite easily\n",
    "## We'll use load dataset\n",
    "from datasets import load_dataset\n",
    "#####\n",
    "\n",
    "#### To load a saved dataset and use it, you can call the load_dataset from a file\n",
    "## Here, we load the dataset in json format.\n",
    "healthcare_notes = load_dataset(\"json\", data_files='./data/healthcare/augmented_notes_30K.jsonl')\n",
    "##"
   ]
  },
  {
   "cell_type": "code",
   "execution_count": 28,
   "metadata": {},
   "outputs": [
    {
     "data": {
      "text/plain": [
       "{'note': 'A a sixteen year-old girl, presented to our Outpatient department with the complaints of discomfort in the neck and lower back as well as restriction of body movements. She was not able to maintain an erect posture and would tend to fall on either side while standing up from a sitting position. She would keep her head turned to the right and upwards due to the sustained contraction of the neck muscles. There was a sideways bending of the back in the lumbar region. To counter the abnormal positioning of the back and neck, she would keep her limbs in a specific position to allow her body weight to be supported. Due to the restrictions with the body movements at the neck and in the lumbar region, she would require assistance in standing and walking. She would require her parents to help her with daily chores, including all activities of self-care.\\nShe had been experiencing these difficulties for the past four months since when she was introduced to olanzapine tablets for the control of her exacerbated mental illness. This was not her first experience with this drug over the past seven years since she had been diagnosed with bipolar affective disorder. Her first episode of the affective disorder was that of mania at the age of eleven which was managed with the use of olanzapine tablets in 2.5–10 mg doses per day at different times. The patient developed pain and discomfort in her neck within the second week of being put on tablet olanzapine at a dose of 5 mg per day. This was associated with a sustained and abnormal contraction of the neck muscles that would pull her head to the right in an upward direction. These features had persisted for the first three years of her illness with a varying intensity, distress, and dysfunction which would tend to correlate with the dose of olanzapine. Apart from a brief period of around three weeks when she was given tablet trihexyphenidyl 4 mg per day for rigidity in her upper limbs, she was not prescribed any other psychotropic medication. The rigidity showed good response to this medication which was subsequently',\n",
       " 'conversation': \"Doctor: Good morning, what brings you to the Outpatient department today?\\nPatient: Good morning doctor, I have some discomfort in my neck and lower back, and I'm not able to maintain an erect posture.\\nDoctor: Hmm, okay. Can you tell me more about the discomfort?\\nPatient: Yes, I tend to fall on either side when I stand up from a sitting position, and my head is always turned to the right and upwards.\\nDoctor: I see. Are you experiencing any pain in your neck?\\nPatient: Yes, I have pain and discomfort in my neck.\\nDoctor: Okay. And what about your back?\\nPatient: There is a sideways bending in my lumbar region. To counter the abnormal positioning of my back and neck, I have to keep my limbs in a specific position to allow my body weight to be supported.\\nDoctor: I understand. Does this restriction of body movements affect your daily life?\\nPatient: Yes, I need assistance in standing and walking, and my parents have to help me with my daily chores, including all activities of self-care.\\nDoctor: I see. How long have you been experiencing these difficulties?\\nPatient: I've been experiencing these difficulties for the past four months since I was introduced to olanzapine tablets for the control of my exacerbated mental illness.\\nDoctor: I see. And you've been diagnosed with bipolar affective disorder, correct?\\nPatient: Yes, I was diagnosed with bipolar affective disorder seven years ago.\\nDoctor: And you've been taking olanzapine for your mental illness for seven years, correct?\\nPatient: Yes, I have. My first episode of the affective disorder was mania when I was eleven, and I've been taking olanzapine tablets in 2.5-10 mg doses per day at different times.\\nDoctor: I see. So, you developed pain and discomfort in your neck within the second week of being put on olanzapine at a dose of 5 mg per day, correct?\\nPatient: Yes, that's correct. The sustained and abnormal contraction of my neck muscles pulls my head to the right in an upward direction.\\nDoctor: I see. And these features have persisted for the first three years of your illness with a varying intensity, distress, and dysfunction, correct?\\nPatient: Yes, that's correct. The intensity, distress, and dysfunction tend to correlate with the dose of olanzapine.\\nDoctor: I see. And apart from a brief period of around three weeks when you were given trihexyphenidyl 4 mg per day for rigidity in your upper limbs, you were not prescribed any other psychotropic medication, correct?\\nPatient: Yes, that's correct. The rigidity showed good response to trihexyphenidyl 4 mg per day.\\nDoctor: Okay. I'm going to order some tests for you, and I'll be able to give you a proper diagnosis after that.\\nPatient: Okay, doctor.\\nDoctor: I'll also instruct you on follow-up requirements.\\nPatient: Okay, thank you, doctor.\",\n",
       " 'idx': 155216,\n",
       " 'summary': '{\\n\"visit motivation\": \"Discomfort in the neck and lower back, restriction of body movements, inability to maintain an erect posture, and requiring assistance in standing and walking.\",\\n\"admission\": [\\n{\\n\"reason\": \"None\",\\n\"date\": \"None\",\\n\"duration\": \"None\",\\n\"care center details\": \"None\"\\n}\\n],\\n\"patient information\": {\\n\"age\": \"Sixteen years old\",\\n\"sex\": \"Female\",\\n\"ethnicity\": \"None\",\\n\"weight\": \"None\",\\n\"height\": \"None\",\\n\"family medical history\": \"None\",\\n\"recent travels\": \"None\",\\n\"socio economic context\": \"None\",\\n\"occupation\": \"None\"\\n},\\n\"patient medical history\": {\\n\"physiological context\": \"None\",\\n\"psychological context\": \"Diagnosed with bipolar affective disorder at the age of eleven, first episode was that of mania.\",\\n\"vaccination history\": \"None\",\\n\"allergies\": \"None\",\\n\"exercise frequency\": \"None\",\\n\"nutrition\": \"None\",\\n\"sexual history\": \"None\",\\n\"alcohol consumption\": \"None\",\\n\"drug usage\": \"None\",\\n\"smoking status\": \"None\"\\n},\\n\"surgeries\": [\\n{\\n\"reason\": \"None\",\\n\"Type\": \"None\",\\n\"time\": \"None\",\\n\"outcome\": \"None\",\\n\"details\": \"None\"\\n}\\n],\\n\"symptoms\": [\\n{\\n\"name of symptom\": \"Discomfort in the neck and lower back, restriction of body movements, inability to maintain an erect posture\",\\n\"intensity of symptom\": \"None\",\\n\"location\": \"Neck and lower back\",\\n\"time\": \"Past four months\",\\n\"temporalisation\": \"None\",\\n\"behaviours affecting the symptom\": \"Standing up from a sitting position\",\\n\"details\": \"Head turned to the right and upwards due to sustained contraction of neck muscles, sideways bending of the back in the lumbar region, limbs positioned to support body weight.\"\\n}\\n],\\n\"medical examinations\": [\\n{\\n\"name\": \"None\",\\n\"result\": \"None\",\\n\"details\": \"None\"\\n}\\n],\\n\"diagnosis tests\": [\\n{\\n\"test\": \"None\",\\n\"severity\": \"None\",\\n\"result\": \"None\",\\n\"condition\": \"None\",\\n\"time\": \"None\",\\n\"details\": \"None\"\\n}\\n],\\n\"treatments\": [\\n{\\n\"name\": \"Olanzapine tablets\",\\n\"related condition\": \"Bipolar affective disorder\",\\n\"dosage\": \"5 mg per day\",\\n\"time\": \"Past four months\",\\n\"frequency\": \"Daily\",\\n\"duration\": \"None\",\\n\"reason for taking\": \"Control of exacerbated mental illness\",\\n\"reaction to treatment\": \"Pain and discomfort in neck, sustained and abnormal contraction of neck muscles, requiring assistance in daily chores\",\\n\"details\": \"Previously managed with olanzapine tablets in 2.5–10 mg doses per day at different times over the past seven years.\"\\n},\\n{\\n\"name\": \"Trihexyphenidyl\",\\n\"related condition\": \"Rigidity in upper limbs\",\\n\"dosage\": \"4 mg per day\",\\n\"time\": \"Brief period of around three weeks\",\\n\"frequency\": \"Daily\",\\n\"duration\": \"None\",\\n\"reason for taking\": \"Rigidity in upper limbs\",\\n\"reaction to treatment\": \"Good response\",\\n\"details\": \"None\"\\n}\\n],\\n\"discharge\": {\\n\"reason\": \"None\",\\n\"referral\": \"None\",\\n\"follow up\": \"None\",\\n\"discharge summary\": \"None\"\\n}\\n}',\n",
       " 'full_note': 'A a sixteen year-old girl, presented to our Outpatient department with the complaints of discomfort in the neck and lower back as well as restriction of body movements. She was not able to maintain an erect posture and would tend to fall on either side while standing up from a sitting position. She would keep her head turned to the right and upwards due to the sustained contraction of the neck muscles. There was a sideways bending of the back in the lumbar region. To counter the abnormal positioning of the back and neck, she would keep her limbs in a specific position to allow her body weight to be supported. Due to the restrictions with the body movements at the neck and in the lumbar region, she would require assistance in standing and walking. She would require her parents to help her with daily chores, including all activities of self-care.\\\\nShe had been experiencing these difficulties for the past four months since when she was introduced to olanzapine tablets for the control of her exacerbated mental illness. This was not her first experience with this drug over the past seven years since she had been diagnosed with bipolar affective disorder. Her first episode of the affective disorder was that of mania at the age of eleven which was managed with the use of olanzapine tablets in 2.5–10 mg doses per day at different times. The patient developed pain and discomfort in her neck within the second week of being put on tablet olanzapine at a dose of 5 mg per day. This was associated with a sustained and abnormal contraction of the neck muscles that would pull her head to the right in an upward direction. These features had persisted for the first three years of her illness with a varying intensity, distress, and dysfunction which would tend to correlate with the dose of olanzapine. Apart from a brief period of around three weeks when she was given tablet trihexyphenidyl 4 mg per day for rigidity in her upper limbs, she was not prescribed any other psychotropic medication. The rigidity showed good response to this medication which was subsequently stopped. The introduction and subsequent withdrawal of this medication did not bring about any change in the sustained abnormal contraction of her neck muscles.\\\\nImprovement and subsequent remission of the mood symptoms of the patient provided the treatment team with an opportunity to stop olanzapine. The discomfort in the neck and the abnormal movement of the neck muscles persisted over the next three months’ period when she was off olanzapine without any significant change, even with a trial of propranolol, trihexyphenidyl, and phenargan injection. Reintroduction of olanzapine (at a dose of 2.5 mg per day) after a gap of three months for the reemergence of some behavioral features led to a slight aggravation of the already existing abnormal movement and posturing of the neck.\\\\nWith improvement in the clinical picture, olanzapine was reduced and stopped. She was put on tablet sodium valproate, 1000 mg per day during this period for the stabilization of her mood when she was also given escitalopram for a period of three months for her depressive features. The patient responded well to this change in medication, but she developed amenorrhea for which no cause was established after a detailed gynecological evaluation. Keeping in mind the possibility of valproate-induced menstrual disturbance, she was shifted to tablet lithium 450 mg per day. The patient was well maintained on this medication for a period of around two years. However, she developed hypothyroidism for which eltroxin was introduced at a dose of 50 micrograms per day.\\\\nDuring this period of two years and seven months, the abnormal contraction of the neck muscles and the abnormal positioning of the head improved slightly, and with the improvement, it would cause less discomfort and interference in her activities. However, these movements failed to disappear completely. Another exacerbation of the mood symptoms in the form of mania warranted a need for the introduction of olanzapine (by a different treatment team) and the patient was reintroduced to 10 mg olanzapine on a daily basis, which led to the current presentation as described earlier.\\\\nAfter the case was seen at our institute, the psychotropic medications were stopped as her mood symptoms had remitted and she was put on tablet tetrabenazine (built up to 75 mg per day in divided doses) with which the patient had started showing some response with an improvement in abnormal movements of the muscles of the neck as well as the back. She is now able to stand with support and can do some daily chores on her own. The pain and discomfort in the back and neck have also reduced.\\\\nDuring the course of the illness, the patient has been investigated for the presence of any neurological illness as the cause of her abnormal movements. Her MRI scan of the brain, serum and urine copper levels, slit lamp microscopy for the KF ring, complete blood count, TLC, DLC, and USG of the abdomen did not reveal any abnormalities. Her thyroid function tests were deranged subsequent to the introduction of tablet lithium carbonate which was restored to normal after the introduction of tablet eltroxin.\\\\nDystonia is a syndrome of sustained muscle contractions that produce twisting and repetitive movements or abnormal postures. The descriptions of the extent and severity of muscle involvement are variable, ranging from intermittent contraction limited to a single body region, to generalized dystonia involving the limbs and axial muscles.\\\\nEver since the introduction of the term, “dystonia” by Oppenhiem in the early part of the twentieth century, it has been an area of focused attention of the neurologists. In 1973, Keegan and Rajput introduced the term, “” to describe drug-induced, sustained muscle spasm causing repetitive movements or abnormal postures. “” was a term introduced by Burke in 1982, the description of which required the presence of chronic dystonia, a history of antipsychotic drug treatment preceding or concurrent with the onset of dystonia, the exclusion of known causes of secondary dystonia by appropriate clinical and laboratory evaluation, and a negative family history of dystonia for definitive diagnosis.\\\\nThe dystonia could be classified based on the region(s) of the body involved. Involvement of isolated regions like the face, neck, and arms would be labeled as focal dystonia, whereas simultaneous involvement of two or more contiguous areas would be called segmental dystonia. When the clinical picture is that of involvement of two or more noncontiguous regions, the label used is, “multifocal” and the involvement of one leg and one other body region makes it the generalized type.\\\\nThe symptoms of tardive dystonia could begin even after a few days or weeks of exposure to the offending agent. Tardive dystonia is prevalent in 0.5–21.6% of the patients who are treated with neuroleptics.\\\\nThe syndrome of tardive dystonia has been reported with most of the typical antipsychotics.[] It has been associated with the atypical antipsychotics, namely risperidone, olanzapine, quetiapine, and aripiprazole. Reports of tardive dystonia developing with the use of atypical antipsychotics have been predominantly in the cases of nonaffective psychosis and in the adult population in the age ranges of the midthirties and forties. Our case is the first case of an affective illness in an adolescent girl developing tardive dystonia on olanzapine. The aggravation of the clinical features with the inadvertent reintroduction of the medication suggests olanzapine is the offending agent. With the growing acceptance of olanzapine as the first-line therapy for the manic phase of bipolar illness and as a mood stabilizer for the maintenance therapy, one needs to be cautious about the emergence of this troublesome adverse effect of this therapy. The patient has shown some response to the introduction of tetrabenazine.'}"
      ]
     },
     "execution_count": 28,
     "metadata": {},
     "output_type": "execute_result"
    }
   ],
   "source": [
    "##### To see what the dataset looks like you see there are 30000 rows\n",
    "## >> That's a lot, so you might want to trim it down\n",
    "## >> let's trim this down to just notes\n",
    "\n",
    "notes = [{'note': note} for note in healthcare_notes['train']['note'][:100]]\n",
    "\n",
    "#####\n",
    "## >>\n",
    "## >>\n",
    "# notes\n",
    "# healthcare_notes['train'][0]\n",
    "#####"
   ]
  },
  {
   "cell_type": "code",
   "execution_count": 23,
   "metadata": {},
   "outputs": [],
   "source": [
    "import jsonlines\n",
    "\n",
    "with jsonlines.open('./data/healthcare/augmented_notes_100.jsonl', mode='w') as writer:\n",
    "    writer.write_all(notes)\n"
   ]
  }
 ],
 "metadata": {
  "kernelspec": {
   "display_name": "Python 3",
   "language": "python",
   "name": "python3"
  },
  "language_info": {
   "codemirror_mode": {
    "name": "ipython",
    "version": 3
   },
   "file_extension": ".py",
   "mimetype": "text/x-python",
   "name": "python",
   "nbconvert_exporter": "python",
   "pygments_lexer": "ipython3",
   "version": "3.11.0"
  }
 },
 "nbformat": 4,
 "nbformat_minor": 2
}
