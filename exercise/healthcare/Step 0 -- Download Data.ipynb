{
 "cells": [
  {
   "cell_type": "markdown",
   "metadata": {},
   "source": [
    "# Combined Workshop\n",
    "\n",
    "1. Setup\n",
    "2. Loading Data Into IRIS\n",
    "3. Vector Search for Retrieval of Data\n",
    "4. Debugging\n",
    "5. Connecting to LLMs"
   ]
  },
  {
   "cell_type": "code",
   "execution_count": 4,
   "metadata": {},
   "outputs": [
    {
     "name": "stderr",
     "output_type": "stream",
     "text": [
      "c:\\Python311\\Lib\\site-packages\\tqdm\\auto.py:21: TqdmWarning: IProgress not found. Please update jupyter and ipywidgets. See https://ipywidgets.readthedocs.io/en/stable/user_install.html\n",
      "  from .autonotebook import tqdm as notebook_tqdm\n",
      "Fetching 3 files: 100%|██████████| 3/3 [00:00<00:00,  5.08it/s]\n",
      "Fetching 7 files:  14%|█▍        | 1/7 [00:00<00:01,  4.68it/s]c:\\Python311\\Lib\\site-packages\\huggingface_hub\\file_download.py:148: UserWarning: `huggingface_hub` cache-system uses symlinks by default to efficiently store duplicated files but your machine does not support them in C:\\Users\\nmitchko. Caching files will still work but in a degraded version that might require more space on your disk. This warning can be disabled by setting the `HF_HUB_DISABLE_SYMLINKS_WARNING` environment variable. For more details, see https://huggingface.co/docs/huggingface_hub/how-to-cache#limitations.\n",
      "To support symlinks on Windows, you either need to activate Developer Mode or to run Python as an administrator. In order to see activate developer mode, see this article: https://docs.microsoft.com/en-us/windows/apps/get-started/enable-your-device-for-development\n",
      "  warnings.warn(message)\n",
      "Fetching 7 files: 100%|██████████| 7/7 [00:04<00:00,  1.43it/s]\n"
     ]
    },
    {
     "data": {
      "text/plain": [
       "'C:\\\\Users\\\\nmitchko\\\\Documents\\\\Sales\\\\Events\\\\2024\\\\gs24-ai-workshop\\\\data\\\\healthcare'"
      ]
     },
     "execution_count": 4,
     "metadata": {},
     "output_type": "execute_result"
    }
   ],
   "source": [
    "## Download a dataset\n",
    "from huggingface_hub import snapshot_download, hf_hub_download\n",
    "\n",
    "# https://huggingface.co/datasets/TimKoornstra/financial-tweets-sentiment\n",
    "financial_dataset = 'TimKoornstra/financial-tweets-sentiment'\n",
    "\n",
    "# https://huggingface.co/datasets/AGBonnet/augmented-clinical-notes\n",
    "healthcare_dataset = 'AGBonnet/augmented-clinical-notes'\n",
    "\n",
    "# Do the download\n",
    "snapshot_download(repo_id=financial_dataset, local_dir='./data/financial', repo_type=\"dataset\")\n",
    "snapshot_download(repo_id=healthcare_dataset, local_dir='./data/healthcare', repo_type=\"dataset\")"
   ]
  },
  {
   "cell_type": "code",
   "execution_count": 10,
   "metadata": {},
   "outputs": [],
   "source": [
    "from datasets import load_dataset\n",
    "\n",
    "financial_tweets = load_dataset(\"parquet\", data_files='./data/financial/data/train-00000-of-00001.parquet')\n",
    "healthcare_notes = load_dataset(\"json\", data_files='./data/healthcare/augmented_notes_30K.jsonl')\n"
   ]
  },
  {
   "cell_type": "code",
   "execution_count": 12,
   "metadata": {},
   "outputs": [
    {
     "data": {
      "text/plain": [
       "DatasetDict({\n",
       "    train: Dataset({\n",
       "        features: ['tweet', 'sentiment', 'url'],\n",
       "        num_rows: 38091\n",
       "    })\n",
       "})"
      ]
     },
     "execution_count": 12,
     "metadata": {},
     "output_type": "execute_result"
    }
   ],
   "source": [
    "financial_tweets\n"
   ]
  },
  {
   "cell_type": "code",
   "execution_count": 13,
   "metadata": {},
   "outputs": [
    {
     "data": {
      "text/plain": [
       "DatasetDict({\n",
       "    train: Dataset({\n",
       "        features: ['note', 'conversation', 'idx', 'summary', 'full_note'],\n",
       "        num_rows: 30000\n",
       "    })\n",
       "})"
      ]
     },
     "execution_count": 13,
     "metadata": {},
     "output_type": "execute_result"
    }
   ],
   "source": [
    "healthcare_notes"
   ]
  },
  {
   "cell_type": "code",
   "execution_count": null,
   "metadata": {},
   "outputs": [],
   "source": [
    "# This code is for academic and educational purposes only.\n",
    "#\n",
    "#\n",
    "# Event: Global Summit 2024 Maryland USA\n",
    "# InterSystems Corporation 2024 (C)\n"
   ]
  }
 ],
 "metadata": {
  "kernelspec": {
   "display_name": "Python 3",
   "language": "python",
   "name": "python3"
  },
  "language_info": {
   "codemirror_mode": {
    "name": "ipython",
    "version": 3
   },
   "file_extension": ".py",
   "mimetype": "text/x-python",
   "name": "python",
   "nbconvert_exporter": "python",
   "pygments_lexer": "ipython3",
   "version": "3.11.0"
  }
 },
 "nbformat": 4,
 "nbformat_minor": 2
}
