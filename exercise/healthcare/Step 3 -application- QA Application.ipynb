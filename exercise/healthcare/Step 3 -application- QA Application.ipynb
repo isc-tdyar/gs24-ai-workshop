{
 "cells": [
  {
   "cell_type": "markdown",
   "metadata": {},
   "source": [
    "## Run your application\n",
    "\n",
    "With your data loaded and embedded, you are now ready to run your application. This application is built using Streamlit.\n",
    " \n",
    "When you are ready, run this notebook to start the application. Switch to the *application tab name tbd* to begin using your chatbot."
   ]
  },
  {
   "cell_type": "code",
   "execution_count": 1,
   "metadata": {},
   "outputs": [],
   "source": [
    "import os\n",
    "\n",
    "os.environ['STREAMLIT_GENERAL_EMAIL'] = \"\"\n",
    "os.environ['STREAMLIT_THEME_PRIMARYCOLOR'] = \"#5863ff\"\n"
   ]
  },
  {
   "cell_type": "code",
   "execution_count": null,
   "metadata": {
    "vscode": {
     "languageId": "shellscript"
    }
   },
   "outputs": [],
   "source": [
    "%%bash\n",
    "# If you're using a container, mac, or linux machine --- run this cell\n",
    "streamlit run application.py --server.port 8080"
   ]
  },
  {
   "cell_type": "code",
   "execution_count": 2,
   "metadata": {
    "vscode": {
     "languageId": "bat"
    }
   },
   "outputs": [
    {
     "name": "stdout",
     "output_type": "stream",
     "text": [
      "Microsoft Windows [Version 10.0.22000.2538]\n",
      "(c) Microsoft Corporation. All rights reserved.\n",
      "\n",
      "c:\\Users\\nmitchko\\Documents\\Sales\\Events\\2024\\gs24-ai-workshop\\exercise\\healthcare>@REM If you're using a windows machine, run this cell\n",
      "\n",
      "c:\\Users\\nmitchko\\Documents\\Sales\\Events\\2024\\gs24-ai-workshop\\exercise\\healthcare>streamlit run application.py --server.port 8080\n",
      "\n",
      "  You can now view your Streamlit app in your browser.\n",
      "\n",
      "  Local URL: http://localhost:8080\n",
      "  Network URL: http://192.168.1.174:8080\n",
      "\n",
      "\n",
      "  A new version of Streamlit is available.\n",
      "\n",
      "  See what's new at https://discuss.streamlit.io/c/announcements\n",
      "\n",
      "  Enter the following command to upgrade:\n",
      "  $ pip install streamlit --upgrade\n",
      "\n"
     ]
    },
    {
     "name": "stderr",
     "output_type": "stream",
     "text": [
      "C:\\Users\\nmitchko\\AppData\\Roaming\\Python\\Python311\\site-packages\\langchain\\embeddings\\__init__.py:29: LangChainDeprecationWarning: Importing embeddings from langchain is deprecated. Importing from langchain will no longer be supported as of langchain==0.2.0. Please import from langchain-community instead:\n",
      "\n",
      "`from langchain_community.embeddings import OpenAIEmbeddings`.\n",
      "\n",
      "To install langchain-community run `pip install -U langchain-community`.\n",
      "  warnings.warn(\n",
      "C:\\Users\\nmitchko\\AppData\\Roaming\\Python\\Python311\\site-packages\\langchain_core\\_api\\deprecation.py:119: LangChainDeprecationWarning: The class `OpenAIEmbeddings` was deprecated in LangChain 0.0.9 and will be removed in 0.2.0. An updated version of the class exists in the langchain-openai package and should be used instead. To use it run `pip install -U langchain-openai` and import as `from langchain_openai import OpenAIEmbeddings`.\n",
      "  warn_deprecated(\n",
      "C:\\Users\\nmitchko\\AppData\\Roaming\\Python\\Python311\\site-packages\\langchain_core\\_api\\deprecation.py:119: LangChainDeprecationWarning: The class `ChatOpenAI` was deprecated in LangChain 0.0.10 and will be removed in 0.2.0. An updated version of the class exists in the langchain-openai package and should be used instead. To use it run `pip install -U langchain-openai` and import as `from langchain_openai import ChatOpenAI`.\n",
      "  warn_deprecated(\n",
      "C:\\Users\\nmitchko\\AppData\\Roaming\\Python\\Python311\\site-packages\\langchain_core\\_api\\deprecation.py:119: LangChainDeprecationWarning: The method `Chain.__call__` was deprecated in langchain 0.1.0 and will be removed in 0.2.0. Use invoke instead.\n",
      "  warn_deprecated(\n"
     ]
    },
    {
     "name": "stdout",
     "output_type": "stream",
     "text": [
      "\n",
      "\n",
      "\u001b[1m> Entering new ConversationChain chain...\u001b[0m\n",
      "Prompt after formatting:\n",
      "\u001b[32;1m\u001b[1;3mThe following is a friendly conversation between a human and an AI. The AI is talkative and provides lots of specific details from its context. If the AI does not know the answer to a question, it truthfully says it does not know.\n",
      "\n",
      "Current conversation:\n",
      "\n",
      "Human: \n",
      "                    Prompt: pregnant woman\n",
      "\n",
      "                    Relevant Documents: [(Document(page_content='Our patient was a 32-year-old gravida III para II Amhara woman who came from a rural area of North West Ethiopia. Her first delivery was an uncomplicated spontaneous vaginal delivery at home at the age of 22 years. Her second delivery was a spontaneous vaginal delivery in a health center 4 years later with early neonatal death for unknown reasons. She was seen by a health professional only once during the current pregnancy, when she experienced progressive abdominal pain 4 months prior to her delivery. She was assessed in a health center and referred to a regional hospital where she underwent an ultrasound scan and was reassured. She presented to the University of Gondar Teaching Hospital with the principal complaint of shortness of breath with associated progressive abdominal distension and pain. Her last menstrual period was unknown but she reported 9 months of amenorrhea.\\nOn general examination, she looked emaciated and was slightly pale. Her vital signs were within normal limits. Her cardiovascular and respiratory system did not reveal any abnormalities. On abdominal examination her symphysis fundal height was term sized, with longitudinal lie and breech presentation. The fetal heart rate was 132 beats per minute and there were no uterine contractions. On vaginal examination the cervix was closed and uneffaced. There was no vaginal bleeding. On ultrasonography examination, there was a singleton live pregnancy with excessive amniotic fluid. The placenta appeared to be attached to the serosal surface of the fundus of her uterus and her uterus was empty. The gestational age was 40 weeks by ultrasound estimation. Her preoperative hematocrit was 34%. An emergency laparotomy was performed with the impression of abdominal pregnancy. Upon opening her abdomen and entering the peritoneum, the fetus was seen in an intact amniotic sac and there was no hemoperitoneum (Fig. ).\\nOn opening the amniotic sac a live female neonate was delivered weighing 2.6kg. The uterus was ruptured at the fundus and the placenta was extensively adhered to the edge of the ruptured site, the serosal surface of the uterus and to the peritoneum', metadata={'source': 'C:\\\\Users\\\\nmitchko\\\\Documents\\\\Sales\\\\Events\\\\2024\\\\gs24-ai-workshop\\\\exercise\\\\healthcare\\\\data\\\\healthcare\\\\augmented_notes_1000.jsonl', 'seq_num': 134}), 0.170216768029913), (Document(page_content='Our patient was a 32-year-old gravida III para II Amhara woman who came from a rural area of North West Ethiopia. Her first delivery was an uncomplicated spontaneous vaginal delivery at home at the age of 22 years. Her second delivery was a spontaneous vaginal delivery in a health center 4 years later with early neonatal death for unknown reasons. She was seen by a health professional only once during the current pregnancy, when she experienced progressive abdominal pain 4 months prior to her delivery. She was assessed in a health center and referred to a regional hospital where she underwent an ultrasound scan and was reassured. She presented to the University of Gondar Teaching Hospital with the principal complaint of shortness of breath with associated progressive abdominal distension and pain. Her last menstrual period was unknown but she reported 9 months of amenorrhea.\\nOn general examination, she looked emaciated and was slightly pale. Her vital signs were within normal limits. Her cardiovascular and respiratory system did not reveal any abnormalities. On abdominal examination her symphysis fundal height was term sized, with longitudinal lie and breech presentation. The fetal heart rate was 132 beats per minute and there were no uterine contractions. On vaginal examination the cervix was closed and uneffaced. There was no vaginal bleeding. On ultrasonography examination, there was a singleton live pregnancy with excessive amniotic fluid. The placenta appeared to be attached to the serosal surface of the fundus of her uterus and her uterus was empty. The gestational age was 40 weeks by ultrasound estimation. Her preoperative hematocrit was 34%. An emergency laparotomy was performed with the impression of abdominal pregnancy. Upon opening her abdomen and entering the peritoneum, the fetus was seen in an intact amniotic sac and there was no hemoperitoneum (Fig. ).\\nOn opening the amniotic sac a live female neonate was delivered weighing 2.6kg. The uterus was ruptured at the fundus and the placenta was extensively adhered to the edge of the ruptured site, the serosal surface of the uterus and to the peritoneum', metadata={'source': 'C:\\\\Users\\\\nmitchko\\\\Documents\\\\Sales\\\\Events\\\\2024\\\\gs24-ai-workshop\\\\exercise\\\\healthcare\\\\data\\\\healthcare\\\\augmented_notes_1000.jsonl', 'seq_num': 134}), 0.170216768029913), (Document(page_content='A 35-year-old gravida 3, parity 2 woman was admitted to the hospital for vaginal bleeding and severe abdominal pain. Her past medical history was free of any medical problems. On her obstetric history, she had a vaginal delivery following an uneventful pregnancy course 8 years ago. Her second pregnancy was terminated via hysterotomy at 18th weeks due to multiple fetal abnormalities including hydrocephalus. She was diagnosed to have total anterior placenta previa on her third pregnancy. This last pregnancy was otherwise uneventful and the patient gave birth to a term, healthy infant via planned repeat cesarean section in a private hospital. During the operation, partially adherent placenta had been detected and the adherent part of the placenta had been left in situ. Postoperative treatment had not been given. 20 days after the operation, she had been hospitalized due to massive vaginal bleeding and had been transfused four units of packed red blood cells since her blood count revealed severe anemia with a hemoglobin level of 5.6 gr/dL. She had been discharged from hospital three days later. However, one week later, she had presented to another center due to vaginal bleeding and pelvic pain. She had been referred to our hospital with a presumptive diagnosis of placental retention because ultrasonography showed soft tissue density with irregular contour in the endometrial cavity (). On her admission, she had findings consistent with acute abdomen and moderate abdominal distention was detected. Her blood pressure was 90/60 mmHg and heart rate was 110/minute. Hemoglobin was 8.5 gr/dL on complete blood count. Ultrasonography revealed free fluid filling the pelvis and lower abdomen. Her serum human chorionic gonadotropin was negative. After obtaining informed consent including hysterectomy, an emergency laparotomy was performed. Following drainage of approximately 1000 mL of free blood from the abdominal cavity, a full-thickness defect on the anterior wall of the uterus was seen (). The defect involved the hysterotomy incision and both sides of the incision were occupied by irregular placental tissue with no obvious normal myometrium. Blood was oozing from the defect. Posterior', metadata={'source': 'C:\\\\Users\\\\nmitchko\\\\Documents\\\\Sales\\\\Events\\\\2024\\\\gs24-ai-workshop\\\\exercise\\\\healthcare\\\\data\\\\healthcare\\\\augmented_notes_1000.jsonl', 'seq_num': 269}), 0.185093020151027), (Document(page_content='A 35-year-old gravida 3, parity 2 woman was admitted to the hospital for vaginal bleeding and severe abdominal pain. Her past medical history was free of any medical problems. On her obstetric history, she had a vaginal delivery following an uneventful pregnancy course 8 years ago. Her second pregnancy was terminated via hysterotomy at 18th weeks due to multiple fetal abnormalities including hydrocephalus. She was diagnosed to have total anterior placenta previa on her third pregnancy. This last pregnancy was otherwise uneventful and the patient gave birth to a term, healthy infant via planned repeat cesarean section in a private hospital. During the operation, partially adherent placenta had been detected and the adherent part of the placenta had been left in situ. Postoperative treatment had not been given. 20 days after the operation, she had been hospitalized due to massive vaginal bleeding and had been transfused four units of packed red blood cells since her blood count revealed severe anemia with a hemoglobin level of 5.6 gr/dL. She had been discharged from hospital three days later. However, one week later, she had presented to another center due to vaginal bleeding and pelvic pain. She had been referred to our hospital with a presumptive diagnosis of placental retention because ultrasonography showed soft tissue density with irregular contour in the endometrial cavity (). On her admission, she had findings consistent with acute abdomen and moderate abdominal distention was detected. Her blood pressure was 90/60 mmHg and heart rate was 110/minute. Hemoglobin was 8.5 gr/dL on complete blood count. Ultrasonography revealed free fluid filling the pelvis and lower abdomen. Her serum human chorionic gonadotropin was negative. After obtaining informed consent including hysterectomy, an emergency laparotomy was performed. Following drainage of approximately 1000 mL of free blood from the abdominal cavity, a full-thickness defect on the anterior wall of the uterus was seen (). The defect involved the hysterotomy incision and both sides of the incision were occupied by irregular placental tissue with no obvious normal myometrium. Blood was oozing from the defect. Posterior', metadata={'source': 'C:\\\\Users\\\\nmitchko\\\\Documents\\\\Sales\\\\Events\\\\2024\\\\gs24-ai-workshop\\\\exercise\\\\healthcare\\\\data\\\\healthcare\\\\augmented_notes_1000.jsonl', 'seq_num': 269}), 0.185093020151027)]\n",
      "\n",
      "                    You should only make use of the provided Relevant Documents. They are important information belonging to the user, and it is important that any advice you give is grounded in these documents. If the documents are irrelevant to the question, simply state that you do not have the relevant information available in the database.\n",
      "                \n",
      "AI:\u001b[0m\n",
      "\n",
      "\u001b[1m> Finished chain.\u001b[0m\n"
     ]
    }
   ],
   "source": [
    "%%cmd\n",
    "@REM If you're using a windows machine, run this cell\n",
    "streamlit run application.py --server.port 8080"
   ]
  },
  {
   "cell_type": "code",
   "execution_count": null,
   "metadata": {
    "vscode": {
     "languageId": "bat"
    }
   },
   "outputs": [],
   "source": []
  }
 ],
 "metadata": {
  "kernelspec": {
   "display_name": "Python 3",
   "language": "python",
   "name": "python3"
  },
  "language_info": {
   "codemirror_mode": {
    "name": "ipython",
    "version": 3
   },
   "file_extension": ".py",
   "mimetype": "text/x-python",
   "name": "python",
   "nbconvert_exporter": "python",
   "pygments_lexer": "ipython3",
   "version": "3.11.0"
  }
 },
 "nbformat": 4,
 "nbformat_minor": 2
}
