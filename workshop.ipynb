{
 "cells": [
  {
   "cell_type": "markdown",
   "metadata": {},
   "source": [
    "# Combined Workshop\n",
    "\n",
    "1. Setup\n",
    "2. Loading Data Into IRIS\n",
    "3. Vector Search for Retrieval of Data\n",
    "4. Debugging\n",
    "5. Connecting to LLMs"
   ]
  },
  {
   "cell_type": "code",
   "execution_count": null,
   "metadata": {},
   "outputs": [],
   "source": [
    "# This code is for academic and educational purposes only.\n",
    "#\n",
    "#\n",
    "# Event: Global Summit 2024 Maryland USA\n",
    "# InterSystems Corporation 2024 (C)\n"
   ]
  }
 ],
 "metadata": {
  "language_info": {
   "name": "python"
  }
 },
 "nbformat": 4,
 "nbformat_minor": 2
}
