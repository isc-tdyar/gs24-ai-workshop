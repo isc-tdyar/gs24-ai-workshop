{
 "cells": [
  {
   "cell_type": "markdown",
   "metadata": {},
   "source": [
    "### Overview\n",
    "In this step, you will download a financial data set to be used in this workshop.\n",
    "* The next block is utilizing the Hugging Face dataset library to download an open-source data set containing tweets about financial topics, which will be used for for vectorizing. \n",
    "* Hugging Face is a popular open-source AI company that provides a wide range of NLP tools and datasets, enabling developers to easily access and integrate high-quality language models and datasets into their projects.\n",
    "* Feel free to read the comments within the code snippets in this workshop to gain a deeper understanding of what each block of code is really doing.\n"
   ]
  },
  {
   "cell_type": "code",
   "execution_count": 1,
   "metadata": {},
   "outputs": [
    {
     "name": "stderr",
     "output_type": "stream",
     "text": [
      "/opt/homebrew/anaconda3/envs/gs24ws/lib/python3.12/site-packages/tqdm/auto.py:21: TqdmWarning: IProgress not found. Please update jupyter and ipywidgets. See https://ipywidgets.readthedocs.io/en/stable/user_install.html\n",
      "  from .autonotebook import tqdm as notebook_tqdm\n",
      "Fetching 3 files: 100%|██████████| 3/3 [00:00<00:00, 17.91it/s]\n"
     ]
    }
   ],
   "source": [
    "##############################################################\n",
    "## This code is for academic and educational purposes only. ##\n",
    "## Event: Global Summit 2024 Maryland USA                   ##\n",
    "## InterSystems Corporation 2024 (C)                        ##\n",
    "## Date: June 9th 2024                                      ##\n",
    "##############################################################\n",
    "\n",
    "\n",
    "## Use the Huggingface hub library to download data effectively\n",
    "from huggingface_hub import snapshot_download, hf_hub_download\n",
    "\n",
    "#####\n",
    "## Here is our dastaset \"tag\", these are formatted in the <account>/<data-set-name> format\n",
    "## Here is the direct link this points to\n",
    "## https://huggingface.co/datasets/TimKoornstra/financial-tweets-sentiment\n",
    "## Each tweet is labeled with a sentiment value, where '1' denotes a positive sentiment, '2' signifies a negative sentiment, and '0' indicates a neutral sentiment.\n",
    "financial_dataset = 'TimKoornstra/financial-tweets-sentiment'\n",
    "#####\n",
    "\n",
    "# Do the download\n",
    "directory = snapshot_download(repo_id=financial_dataset, local_dir='./data/financial', repo_type=\"dataset\")"
   ]
  },
  {
   "cell_type": "markdown",
   "metadata": {},
   "source": [
    "Next, let's load a dataset from a Parquet file located at ./data/financial/data/train-00000-of-00001.parquet. The load_dataset function takes two arguments:\n",
    "* The first argument, \"parquet\", specifies the format of the dataset file. In this case, it's a Parquet file, which is a columnar storage format for large datasets.\n",
    "* The second argument, data_files, specifies the path to the dataset file.\n",
    "\n",
    "The loaded dataset is assigned to a variable named financial_tweets."
   ]
  },
  {
   "cell_type": "code",
   "execution_count": 2,
   "metadata": {},
   "outputs": [
    {
     "name": "stderr",
     "output_type": "stream",
     "text": [
      "Generating train split: 38091 examples [00:00, 1075194.05 examples/s]\n"
     ]
    }
   ],
   "source": [
    "from datasets import load_dataset\n",
    "\n",
    "financial_tweets = load_dataset(\"parquet\", data_files='./data/financial/data/train-00000-of-00001.parquet')\n",
    "# healthcare_notes = load_dataset(\"json\", data_files='./data/healthcare/augmented_notes_30K.jsonl')\n",
    "\n"
   ]
  },
  {
   "cell_type": "code",
   "execution_count": 3,
   "metadata": {},
   "outputs": [
    {
     "data": {
      "text/plain": [
       "DatasetDict({\n",
       "    train: Dataset({\n",
       "        features: ['tweet', 'sentiment', 'url'],\n",
       "        num_rows: 38091\n",
       "    })\n",
       "})"
      ]
     },
     "execution_count": 3,
     "metadata": {},
     "output_type": "execute_result"
    }
   ],
   "source": [
    "financial_tweets"
   ]
  },
  {
   "cell_type": "markdown",
   "metadata": {},
   "source": [
    "Run the next block of code to trim this 30,000-row data set down to 1,000 rows for this exercise. This will use the first 1,000 tweets in the financial data set."
   ]
  },
  {
   "cell_type": "code",
   "execution_count": 5,
   "metadata": {},
   "outputs": [],
   "source": [
    "##### To see what the dataset looks like you see there are 30000 rows\n",
    "## >> That's a lot, so you might want to trim it down\n",
    "## >> let's trim this down to just tweets\n",
    "notes = [{'note': note} for note in financial_tweets['train']['tweet'][:1000]]\n",
    "#urls = "
   ]
  },
  {
   "cell_type": "markdown",
   "metadata": {},
   "source": [
    "Run the next block to see your trimmed set of data."
   ]
  },
  {
   "cell_type": "code",
   "execution_count": 6,
   "metadata": {},
   "outputs": [
    {
     "data": {
      "text/plain": [
       "[{'note': '$BYND - JPMorgan reels in expectations on Beyond Meat https://t.co/bd0xbFGjkT'},\n",
       " {'note': '$CCL $RCL - Nomura points to bookings weakness at Carnival and Royal Caribbean https://t.co/yGjpT2ReD3'}]"
      ]
     },
     "execution_count": 6,
     "metadata": {},
     "output_type": "execute_result"
    }
   ],
   "source": [
    "notes[:2]"
   ]
  },
  {
   "cell_type": "markdown",
   "metadata": {},
   "source": [
    "Finally, run the next block of code to write the trimmed collection of data into a new JSON Lines file for use in the exercise."
   ]
  },
  {
   "cell_type": "code",
   "execution_count": 10,
   "metadata": {},
   "outputs": [],
   "source": [
    "import jsonlines\n",
    "with jsonlines.open('./data/financial/tweets_all.jsonl', mode='w') as writer:\n",
    "    for i in range(1000):\n",
    "        record = {\n",
    "            'note': financial_tweets['train']['tweet'][i],\n",
    "            'sentiment': financial_tweets['train']['sentiment'][i]\n",
    "        }\n",
    "        writer.write(record)"
   ]
  }
 ],
 "metadata": {
  "kernelspec": {
   "display_name": "Python 3",
   "language": "python",
   "name": "python3"
  },
  "language_info": {
   "codemirror_mode": {
    "name": "ipython",
    "version": 3
   },
   "file_extension": ".py",
   "mimetype": "text/x-python",
   "name": "python",
   "nbconvert_exporter": "python",
   "pygments_lexer": "ipython3",
   "version": "3.12.3"
  }
 },
 "nbformat": 4,
 "nbformat_minor": 2
}
