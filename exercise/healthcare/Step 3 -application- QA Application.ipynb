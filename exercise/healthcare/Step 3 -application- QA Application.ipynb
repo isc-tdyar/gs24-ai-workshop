{
 "cells": [
  {
   "cell_type": "markdown",
   "metadata": {},
   "source": [
    "## Run your application\n",
    "\n",
    "With your data loaded and embedded, you are now ready to run your application. This application is built using Streamlit. To explore the application code, open `application.py`.\n",
    " \n",
    "When you are ready, run this notebook to start the application. Switch to the *application tab name tbd* to begin using your chatbot."
   ]
  },
  {
   "cell_type": "code",
   "execution_count": 1,
   "metadata": {},
   "outputs": [],
   "source": [
    "import os\n",
    "\n",
    "os.environ['STREAMLIT_GENERAL_EMAIL'] = \"\"\n",
    "os.environ['STREAMLIT_THEME_PRIMARYCOLOR'] = \"#5863ff\"\n"
   ]
  },
  {
   "cell_type": "code",
   "execution_count": null,
   "metadata": {
    "vscode": {
     "languageId": "shellscript"
    }
   },
   "outputs": [],
   "source": [
    "%%bash\n",
    "# If you're using a container, mac, or linux machine --- run this cell\n",
    "streamlit run application.py --server.port 8080"
   ]
  },
  {
   "cell_type": "code",
   "execution_count": 2,
   "metadata": {
    "vscode": {
     "languageId": "bat"
    }
   },
   "outputs": [
    {
     "name": "stdout",
     "output_type": "stream",
     "text": [
      "Microsoft Windows [Version 10.0.22000.2538]\n",
      "(c) Microsoft Corporation. All rights reserved.\n",
      "\n",
      "c:\\Users\\nmitchko\\Documents\\Sales\\Events\\2024\\gs24-ai-workshop\\exercise\\healthcare>@REM If you're using a windows machine, run this cell\n",
      "\n",
      "c:\\Users\\nmitchko\\Documents\\Sales\\Events\\2024\\gs24-ai-workshop\\exercise\\healthcare>streamlit run application.py --server.port 8080\n",
      "\n",
      "  You can now view your Streamlit app in your browser.\n",
      "\n",
      "  Local URL: http://localhost:8080\n",
      "  Network URL: http://10.0.0.205:8080\n",
      "\n"
     ]
    },
    {
     "name": "stderr",
     "output_type": "stream",
     "text": [
      "C:\\Users\\nmitchko\\AppData\\Roaming\\Python\\Python311\\site-packages\\langchain\\_api\\module_import.py:87: LangChainDeprecationWarning: Importing get_openai_callback from C:\\Users\\nmitchko\\AppData\\Roaming\\Python\\Python311\\site-packages\\langchain\\callbacks\\__init__.py is deprecated. Please replace the import with the following:\n",
      "from langchain_community.callbacks.manager import get_openai_callback\n",
      "  warnings.warn(\n",
      "C:\\Users\\nmitchko\\AppData\\Roaming\\Python\\Python311\\site-packages\\langchain\\embeddings\\__init__.py:29: LangChainDeprecationWarning: Importing embeddings from langchain is deprecated. Importing from langchain will no longer be supported as of langchain==0.2.0. Please import from langchain-community instead:\n",
      "\n",
      "`from langchain_community.embeddings import OpenAIEmbeddings`.\n",
      "\n",
      "To install langchain-community run `pip install -U langchain-community`.\n",
      "  warnings.warn(\n",
      "C:\\Users\\nmitchko\\AppData\\Roaming\\Python\\Python311\\site-packages\\langchain_core\\_api\\deprecation.py:119: LangChainDeprecationWarning: The class `OpenAIEmbeddings` was deprecated in LangChain 0.0.9 and will be removed in 0.2.0. An updated version of the class exists in the langchain-openai package and should be used instead. To use it run `pip install -U langchain-openai` and import as `from langchain_openai import OpenAIEmbeddings`.\n",
      "  warn_deprecated(\n",
      "C:\\Users\\nmitchko\\AppData\\Roaming\\Python\\Python311\\site-packages\\langchain_core\\_api\\deprecation.py:119: LangChainDeprecationWarning: The class `ChatOpenAI` was deprecated in LangChain 0.0.10 and will be removed in 0.2.0. An updated version of the class exists in the langchain-openai package and should be used instead. To use it run `pip install -U langchain-openai` and import as `from langchain_openai import ChatOpenAI`.\n",
      "  warn_deprecated(\n"
     ]
    },
    {
     "name": "stdout",
     "output_type": "stream",
     "text": [
      "No Dataset selected\n"
     ]
    },
    {
     "name": "stderr",
     "output_type": "stream",
     "text": [
      "C:\\Users\\nmitchko\\AppData\\Roaming\\Python\\Python311\\site-packages\\langchain_core\\_api\\deprecation.py:119: LangChainDeprecationWarning: The method `Chain.__call__` was deprecated in langchain 0.1.0 and will be removed in 0.2.0. Use invoke instead.\n",
      "  warn_deprecated(\n"
     ]
    },
    {
     "name": "stdout",
     "output_type": "stream",
     "text": [
      "\n",
      "\n",
      "\u001b[1m> Entering new ConversationChain chain...\u001b[0m\n",
      "Prompt after formatting:\n",
      "\u001b[32;1m\u001b[1;3mThe following is a friendly conversation between a human and an AI. The AI is talkative and provides lots of specific details from its context. If the AI does not know the answer to a question, it truthfully says it does not know.\n",
      "\n",
      "Current conversation:\n",
      "\n",
      "Human: \n",
      "                    Prompt: what can you tell me about diabetes?\n",
      "\n",
      "                    Relevant Documents: None\n",
      "\n",
      "                    You should only make use of the provided Relevant Documents. They are important information belonging to the user, and it is important that any advice you give is grounded in these documents. If the documents are irrelevant to the question, simply state that you do not have the relevant information available in the database.\n",
      "                \n",
      "AI:\u001b[0m\n",
      "\n",
      "\u001b[1m> Finished chain.\u001b[0m\n"
     ]
    },
    {
     "name": "stderr",
     "output_type": "stream",
     "text": [
      "C:\\Users\\nmitchko\\AppData\\Roaming\\Python\\Python311\\site-packages\\langchain\\_api\\module_import.py:87: LangChainDeprecationWarning: Importing get_openai_callback from C:\\Users\\nmitchko\\AppData\\Roaming\\Python\\Python311\\site-packages\\langchain\\callbacks\\__init__.py is deprecated. Please replace the import with the following:\n",
      "from langchain_community.callbacks.manager import get_openai_callback\n",
      "  warnings.warn(\n",
      "C:\\Users\\nmitchko\\AppData\\Roaming\\Python\\Python311\\site-packages\\langchain\\embeddings\\__init__.py:29: LangChainDeprecationWarning: Importing embeddings from langchain is deprecated. Importing from langchain will no longer be supported as of langchain==0.2.0. Please import from langchain-community instead:\n",
      "\n",
      "`from langchain_community.embeddings import OpenAIEmbeddings`.\n",
      "\n",
      "To install langchain-community run `pip install -U langchain-community`.\n",
      "  warnings.warn(\n"
     ]
    },
    {
     "name": "stdout",
     "output_type": "stream",
     "text": [
      "\n",
      "\n",
      "\u001b[1m> Entering new ConversationChain chain...\u001b[0m\n",
      "Prompt after formatting:\n",
      "\u001b[32;1m\u001b[1;3mThe following is a friendly conversation between a human and an AI. The AI is talkative and provides lots of specific details from its context. If the AI does not know the answer to a question, it truthfully says it does not know.\n",
      "\n",
      "Current conversation:\n",
      "\n",
      "Human: \n",
      "                    Prompt: okay, now tell me about some diabetic patients\n",
      "\n",
      "                    Relevant Documents: [(Document(page_content='A 78-year-old woman was referred to our department due to a mass in the lower abdomen. She had a history of type 2 diabetes mellitus and had been insulin-dependent for more than 7 years. She was admitted to the Internal Medicine Department because of deteriorating blood glucose control. Her HbA1c was 10.6% and total daily insulin dose was 58 units. On admission, physical examination revealed a firm mass in the lower abdomen with no pain or tenderness, and she was referred to our department for further treatment.\\nComputed tomography revealed a mass measuring 28 × 18 × 30 mm in the subcutaneous tissue (). She had injected insulin into the abdomen near the mass. We suspected that this was a skin-related complication of insulin therapy, and the patient was instructed to refrain from injecting insulin into the mass. To confirm the diagnosis, we planned excision of the mass. However, several days later, she fell on the floor and sustained right femoral neck fracture. She was admitted to the Orthopedic Department for surgical treatment, and excision of the mass was postponed. During this hospitalization, the floor nurses supervised her insulin injection. Her blood glucose control improved rapidly, and she had experienced hypoglycemia several times. Two months after visiting our department, her HbA1c was 7.8% and daily insulin dose was decreased to 33 units. She was discharged from our hospital, but she had not visited our department at that time.\\nFour years later, she was admitted to the Internal Medicine Department because of renal anemia and referred to our department again due to the same mass in the lower abdomen, which was suspected to be a malignant soft tissue tumor. The mass was enlarged compared to her first visit. Her HbA1c was 7.4% and daily insulin dose was 22 units. Computed tomography revealed that the mass had expanded to 60 × 20 × 35 mm with unclear borders. We found her previous abdominal computed tomography results and confirmed that the mass had already existed 8 years previously,', metadata={'source': 'C:\\\\Users\\\\nmitchko\\\\Documents\\\\Sales\\\\Events\\\\2024\\\\gs24-ai-workshop\\\\exercise\\\\healthcare\\\\data\\\\healthcare\\\\augmented_notes_1000.jsonl', 'seq_num': 716}), 0.194359770493414), (Document(page_content='A 78-year-old woman was referred to our department due to a mass in the lower abdomen. She had a history of type 2 diabetes mellitus and had been insulin-dependent for more than 7 years. She was admitted to the Internal Medicine Department because of deteriorating blood glucose control. Her HbA1c was 10.6% and total daily insulin dose was 58 units. On admission, physical examination revealed a firm mass in the lower abdomen with no pain or tenderness, and she was referred to our department for further treatment.\\nComputed tomography revealed a mass measuring 28 × 18 × 30 mm in the subcutaneous tissue (). She had injected insulin into the abdomen near the mass. We suspected that this was a skin-related complication of insulin therapy, and the patient was instructed to refrain from injecting insulin into the mass. To confirm the diagnosis, we planned excision of the mass. However, several days later, she fell on the floor and sustained right femoral neck fracture. She was admitted to the Orthopedic Department for surgical treatment, and excision of the mass was postponed. During this hospitalization, the floor nurses supervised her insulin injection. Her blood glucose control improved rapidly, and she had experienced hypoglycemia several times. Two months after visiting our department, her HbA1c was 7.8% and daily insulin dose was decreased to 33 units. She was discharged from our hospital, but she had not visited our department at that time.\\nFour years later, she was admitted to the Internal Medicine Department because of renal anemia and referred to our department again due to the same mass in the lower abdomen, which was suspected to be a malignant soft tissue tumor. The mass was enlarged compared to her first visit. Her HbA1c was 7.4% and daily insulin dose was 22 units. Computed tomography revealed that the mass had expanded to 60 × 20 × 35 mm with unclear borders. We found her previous abdominal computed tomography results and confirmed that the mass had already existed 8 years previously,', metadata={'source': 'C:\\\\Users\\\\nmitchko\\\\Documents\\\\Sales\\\\Events\\\\2024\\\\gs24-ai-workshop\\\\exercise\\\\healthcare\\\\data\\\\healthcare\\\\augmented_notes_1000.jsonl', 'seq_num': 716}), 0.194359770493414), (Document(page_content='A 72-years-old female was brought to psychiatry outpatient department, relatives reported that for last 1 month, she is complaining, she is not in her home as she often says that she should be taken to her own home. She was not able to move about freely due to her impaired vision, weight and diabetic neuropathy. She had to be helped for activities of daily living due to impaired vision. She would often say that there are people around her whom she does not know. She was also hearing voices of some persons crying and would ask her daughter-in-law about it. She said she could see a few children eating from her plate when she is eating her meals and she would ask them to be removed. She said there are 3-4 children of 6-8 years age who are eating from her plate. She could see monkeys in her room. At times she would say that she is being taken in an ox-cart, she could see the desert and ruins of a building. She would repeatedly say that she can see many persons around her and they should be removed from there, or she should be taken to her own home. She remained irritable due to the presence of unwanted persons around her. At times, she also said that someone has carried out black magic on her, though on examination, it was not a firmly held belief. On mental status examination her cognitive functions were intact. She had auditory and visual hallucinations. She was troubled by auditory and visual hallucinations and lacked insight.\\nShe was a diagnosed case of diabetes and hypertension since 1999. She also had diabetic nephropathy and neuropathy. She was on injection Insulin twice a day 18 units and 12 units, morning and evening.\\nIn March 2009, she had an ophthalmic examination. She had proliferative diabetic retinopathy and ocular hemorrhage. She had complete vision loss since March 2009 (2 months) and had to be helped for activities of daily living. She was taking tablet', metadata={'source': 'C:\\\\Users\\\\nmitchko\\\\Documents\\\\Sales\\\\Events\\\\2024\\\\gs24-ai-workshop\\\\exercise\\\\healthcare\\\\data\\\\healthcare\\\\augmented_notes_1000.jsonl', 'seq_num': 588}), 0.195662095573929), (Document(page_content='A 72-years-old female was brought to psychiatry outpatient department, relatives reported that for last 1 month, she is complaining, she is not in her home as she often says that she should be taken to her own home. She was not able to move about freely due to her impaired vision, weight and diabetic neuropathy. She had to be helped for activities of daily living due to impaired vision. She would often say that there are people around her whom she does not know. She was also hearing voices of some persons crying and would ask her daughter-in-law about it. She said she could see a few children eating from her plate when she is eating her meals and she would ask them to be removed. She said there are 3-4 children of 6-8 years age who are eating from her plate. She could see monkeys in her room. At times she would say that she is being taken in an ox-cart, she could see the desert and ruins of a building. She would repeatedly say that she can see many persons around her and they should be removed from there, or she should be taken to her own home. She remained irritable due to the presence of unwanted persons around her. At times, she also said that someone has carried out black magic on her, though on examination, it was not a firmly held belief. On mental status examination her cognitive functions were intact. She had auditory and visual hallucinations. She was troubled by auditory and visual hallucinations and lacked insight.\\nShe was a diagnosed case of diabetes and hypertension since 1999. She also had diabetic nephropathy and neuropathy. She was on injection Insulin twice a day 18 units and 12 units, morning and evening.\\nIn March 2009, she had an ophthalmic examination. She had proliferative diabetic retinopathy and ocular hemorrhage. She had complete vision loss since March 2009 (2 months) and had to be helped for activities of daily living. She was taking tablet', metadata={'source': 'C:\\\\Users\\\\nmitchko\\\\Documents\\\\Sales\\\\Events\\\\2024\\\\gs24-ai-workshop\\\\exercise\\\\healthcare\\\\data\\\\healthcare\\\\augmented_notes_1000.jsonl', 'seq_num': 588}), 0.195662095573929)]\n",
      "\n",
      "                    You should only make use of the provided Relevant Documents. They are important information belonging to the user, and it is important that any advice you give is grounded in these documents. If the documents are irrelevant to the question, simply state that you do not have the relevant information available in the database.\n",
      "                \n",
      "AI:\u001b[0m\n",
      "\n",
      "\u001b[1m> Finished chain.\u001b[0m\n"
     ]
    },
    {
     "name": "stderr",
     "output_type": "stream",
     "text": [
      "C:\\Users\\nmitchko\\AppData\\Roaming\\Python\\Python311\\site-packages\\langchain\\_api\\module_import.py:87: LangChainDeprecationWarning: Importing get_openai_callback from C:\\Users\\nmitchko\\AppData\\Roaming\\Python\\Python311\\site-packages\\langchain\\callbacks\\__init__.py is deprecated. Please replace the import with the following:\n",
      "from langchain_community.callbacks.manager import get_openai_callback\n",
      "  warnings.warn(\n",
      "C:\\Users\\nmitchko\\AppData\\Roaming\\Python\\Python311\\site-packages\\langchain\\embeddings\\__init__.py:29: LangChainDeprecationWarning: Importing embeddings from langchain is deprecated. Importing from langchain will no longer be supported as of langchain==0.2.0. Please import from langchain-community instead:\n",
      "\n",
      "`from langchain_community.embeddings import OpenAIEmbeddings`.\n",
      "\n",
      "To install langchain-community run `pip install -U langchain-community`.\n",
      "  warnings.warn(\n"
     ]
    }
   ],
   "source": [
    "%%cmd\n",
    "@REM If you're using a windows machine, run this cell\n",
    "streamlit run application.py --server.port 8080"
   ]
  },
  {
   "cell_type": "code",
   "execution_count": null,
   "metadata": {
    "vscode": {
     "languageId": "bat"
    }
   },
   "outputs": [],
   "source": []
  }
 ],
 "metadata": {
  "kernelspec": {
   "display_name": "Python 3",
   "language": "python",
   "name": "python3"
  },
  "language_info": {
   "codemirror_mode": {
    "name": "ipython",
    "version": 3
   },
   "file_extension": ".py",
   "mimetype": "text/x-python",
   "name": "python",
   "nbconvert_exporter": "python",
   "pygments_lexer": "ipython3",
   "version": "3.11.0"
  }
 },
 "nbformat": 4,
 "nbformat_minor": 2
}
